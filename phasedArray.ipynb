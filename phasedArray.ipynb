{
 "cells": [
  {
   "cell_type": "code",
   "execution_count": null,
   "id": "500bc683",
   "metadata": {},
   "outputs": [],
   "source": [
    "# Diana Cantini & Carrie Lei\n",
    "# Final Project: Phased Array Antenna Simulation\n",
    "\n",
    "# Milestone 1 Goal: Read-up on phased arrays & math behind it + 1D Array Simulation"
   ]
  },
  {
   "cell_type": "code",
   "execution_count": null,
   "id": "ca503255",
   "metadata": {},
   "outputs": [],
   "source": []
  }
 ],
 "metadata": {
  "language_info": {
   "name": "python"
  }
 },
 "nbformat": 4,
 "nbformat_minor": 5
}
